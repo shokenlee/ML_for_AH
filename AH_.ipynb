{
 "cells": [
  {
   "cell_type": "code",
   "execution_count": 1,
   "id": "fec2ef3a-5f96-4013-8f0d-e18208be6706",
   "metadata": {},
   "outputs": [],
   "source": [
    "import os, sys, subprocess, re, requests, json, warnings\n",
    "import numpy as np\n",
    "import pandas as pd\n",
    "from urllib.request import urlopen\n",
    "from time import sleep\n",
    "\n",
    "warnings.filterwarnings('ignore')\n",
    "\n",
    "# # if necessary\n",
    "# from Bio import SeqIO\n",
    "# from Bio.PDB.DSSP import DSSP\n",
    "# from Bio.PDB.DSSP import PDBParser\n",
    "# import biotite.application.dssp as dssp"
   ]
  },
  {
   "cell_type": "code",
   "execution_count": 2,
   "id": "7ca23eee-5301-4214-a5d4-4ce97a38e5b9",
   "metadata": {
    "tags": []
   },
   "outputs": [],
   "source": [
    "def get_url(url, **kwargs):\n",
    "    '''\n",
    "    Obatin a response from a given url\n",
    "    '''\n",
    "    response = requests.get(url, **kwargs);\n",
    "\n",
    "    if not response.ok:\n",
    "        print(response.text)\n",
    "        response.raise_for_status()\n",
    "        sys.exit()\n",
    "\n",
    "    return response"
   ]
  },
  {
   "cell_type": "code",
   "execution_count": 3,
   "id": "70d6f85d-ded6-464b-b2fe-7f0f2fa42f26",
   "metadata": {},
   "outputs": [],
   "source": [
    "# uniprot API URL\n",
    "WEBSITE_API = \"https://rest.uniprot.org/uniprotkb/\"\n",
    "\n",
    "# minimum length of a helix to be considered\n",
    "helix_min_len = 6"
   ]
  },
  {
   "cell_type": "code",
   "execution_count": 4,
   "id": "918ef23a-cf63-419e-ad1c-4549220780f6",
   "metadata": {},
   "outputs": [],
   "source": [
    "def find_SS_location(res_seq, ss_seq, ss_symbol):\n",
    "    '''\n",
    "    Return residues that belong to helix\n",
    "    as a list of residues and their locations\n",
    "    Note that '*' is added in the end of both AA and prediction strings,\n",
    "    thus precition[0-1] and predition[last] return non-H anyway,\n",
    "    preventing the bug when predciton starts or ends with H\n",
    "    '''\n",
    "    helix_res_loc_dict = dict()\n",
    "    \n",
    "    res_seq += '*'\n",
    "    ss_seq += '*'\n",
    "\n",
    "    for i in range(len(ss_seq)):\n",
    "        if (ss_seq[i-1] != ss_symbol) & (ss_seq[i] == ss_symbol):\n",
    "            helix_start = i\n",
    "\n",
    "        elif (ss_seq[i-1] == ss_symbol) & (ss_seq[i] != ss_symbol):\n",
    "            helix_end = i\n",
    "            \n",
    "            # pack helix residues and locations into a dictionary\n",
    "            helix_res = res_seq[helix_start:helix_end]\n",
    "            # helix loc as a string\n",
    "#             helix_loc = str(helix_start+1) + '-' + str(helix_end) # residue number is non-pythonic and starts with 1, not 0\n",
    "            # helix loc as a list\n",
    "            helix_loc = list()\n",
    "            helix_loc.append(helix_start+1)\n",
    "            helix_loc.append(helix_end) # residue number is non-pythonic and starts with 1, not 0\n",
    "            \n",
    "            helix_res_loc_dict[helix_res] = helix_loc\n",
    "\n",
    "    return helix_res_loc_dict"
   ]
  },
  {
   "cell_type": "markdown",
   "id": "4c4b85cb-e74d-4c88-a3ef-6060dc8c3fa7",
   "metadata": {},
   "source": [
    "# 1. FASTA sequence"
   ]
  },
  {
   "cell_type": "code",
   "execution_count": 15,
   "id": "c685abc6-765b-4e1e-a31d-11b04f1e301b",
   "metadata": {},
   "outputs": [],
   "source": [
    "# protein list import\n",
    "df = pd.read_excel('./SourceData/AH_protein_list.xlsx')\n",
    "columns = df.iloc[0, 1:]\n",
    "df = df.iloc[1:, 1:]\n",
    "df.columns = columns\n",
    "df = df.reset_index()\n",
    "df = df.drop(['index'], axis=1)"
   ]
  },
  {
   "cell_type": "code",
   "execution_count": 20,
   "id": "acffc039-bb74-4d70-ad1f-a25e876e9d50",
   "metadata": {},
   "outputs": [],
   "source": [
    "# Protein entry list\n",
    "entry_list = df.Entry.unique().tolist()"
   ]
  },
  {
   "cell_type": "code",
   "execution_count": 8,
   "id": "0a29bd3e-22eb-479d-bc9e-459a96f5152a",
   "metadata": {
    "collapsed": true,
    "jupyter": {
     "outputs_hidden": true
    },
    "tags": []
   },
   "outputs": [
    {
     "name": "stdout",
     "output_type": "stream",
     "text": [
      "P49585\n",
      "P37840\n",
      "P02647\n",
      "P32567\n",
      "Q12164\n",
      "Q12164\n",
      "P71021\n",
      "Q7KLE5\n",
      "O35179\n",
      "P11006\n",
      "P37817\n",
      "Q9Y6I3\n",
      "O00499\n",
      "Q9UBW5\n",
      "P84080\n",
      "P01501\n",
      "B6GZG8\n",
      "P22943\n",
      "P03588\n",
      "Q9VC57\n",
      "Q12402\n",
      "O04616\n",
      "P49790\n",
      "Q503I3\n",
      "Q04359\n"
     ]
    }
   ],
   "source": [
    "# Obtain FASTA seq from Uniprot, make AH position data\n",
    "for entry in entry_list:\n",
    "    print(entry)\n",
    "    try:\n",
    "        r = get_url(f'{WEBSITE_API}search?query=accession:{entry}&format=fasta&compressed=false')\n",
    "    except requests.exceptions.ConnectionError:\n",
    "        r.status_code = \"Connection refused\"\n",
    "        break\n",
    "        \n",
    "    # export fasta\n",
    "    fasta = r.text\n",
    "    with open('./TrainingData/Original_fasta/%s.fas' % entry, 'w') as f:\n",
    "        f.write(fasta)\n",
    "        f.close()\n",
    "        \n",
    "    sleep(1)"
   ]
  },
  {
   "cell_type": "markdown",
   "id": "89ace94b-e323-4a5a-9dd8-4de19c423f08",
   "metadata": {},
   "source": [
    "# s4pred for ss prediction, then DeepTMHMM for subtracting TM locations"
   ]
  },
  {
   "cell_type": "code",
   "execution_count": 9,
   "id": "0915e40a-1102-400b-bbd5-338157d48e62",
   "metadata": {},
   "outputs": [
    {
     "name": "stdout",
     "output_type": "stream",
     "text": [
      "2022-08-15 19:21:18,087 | INFO : Loaded project DTU/DeepTMHMM:1.0.12\n"
     ]
    }
   ],
   "source": [
    "# s4pred\n",
    "model = '../s4pred/run_model.py'\n",
    "\n",
    "# DeepTMHMM\n",
    "import biolib\n",
    "deeptmhmm = biolib.load('DTU/DeepTMHMM')"
   ]
  },
  {
   "cell_type": "code",
   "execution_count": 11,
   "id": "38ab6077-05bd-4b57-8360-d4fba023fde1",
   "metadata": {},
   "outputs": [],
   "source": [
    "# make a home df for output\n",
    "df_output = pd.DataFrame(columns=['Entry','Gene_name','Helix_seq','Helix_loc'])"
   ]
  },
  {
   "cell_type": "code",
   "execution_count": 17,
   "id": "576bf2c4-ba2e-4f1b-bd58-6a8757ac7935",
   "metadata": {},
   "outputs": [
    {
     "data": {
      "text/html": [
       "<div>\n",
       "<style scoped>\n",
       "    .dataframe tbody tr th:only-of-type {\n",
       "        vertical-align: middle;\n",
       "    }\n",
       "\n",
       "    .dataframe tbody tr th {\n",
       "        vertical-align: top;\n",
       "    }\n",
       "\n",
       "    .dataframe thead th {\n",
       "        text-align: right;\n",
       "    }\n",
       "</style>\n",
       "<table border=\"1\" class=\"dataframe\">\n",
       "  <thead>\n",
       "    <tr style=\"text-align: right;\">\n",
       "      <th></th>\n",
       "      <th>Entry</th>\n",
       "      <th>Organism</th>\n",
       "      <th>Gene_name</th>\n",
       "      <th>AH_location_start</th>\n",
       "      <th>AH_location_end</th>\n",
       "      <th>Seq</th>\n",
       "      <th>Source</th>\n",
       "      <th>Helix in AF?</th>\n",
       "      <th>Helix in s4pred</th>\n",
       "    </tr>\n",
       "  </thead>\n",
       "  <tbody>\n",
       "    <tr>\n",
       "      <th>0</th>\n",
       "      <td>Q9UH99</td>\n",
       "      <td>Human</td>\n",
       "      <td>SUN2</td>\n",
       "      <td>155</td>\n",
       "      <td>190</td>\n",
       "      <td>NaN</td>\n",
       "      <td>NaN</td>\n",
       "      <td>NaN</td>\n",
       "      <td>NaN</td>\n",
       "    </tr>\n",
       "    <tr>\n",
       "      <th>1</th>\n",
       "      <td>Q8N6T3</td>\n",
       "      <td>NaN</td>\n",
       "      <td>ARFGAP1</td>\n",
       "      <td>199</td>\n",
       "      <td>223</td>\n",
       "      <td>NaN</td>\n",
       "      <td>NaN</td>\n",
       "      <td>NaN</td>\n",
       "      <td>NaN</td>\n",
       "    </tr>\n",
       "    <tr>\n",
       "      <th>2</th>\n",
       "      <td>Q15643</td>\n",
       "      <td>NaN</td>\n",
       "      <td>GMAP-210</td>\n",
       "      <td>1</td>\n",
       "      <td>38</td>\n",
       "      <td>NaN</td>\n",
       "      <td>NaN</td>\n",
       "      <td>No</td>\n",
       "      <td>NaN</td>\n",
       "    </tr>\n",
       "    <tr>\n",
       "      <th>3</th>\n",
       "      <td>P20606</td>\n",
       "      <td>NaN</td>\n",
       "      <td>Sar1p</td>\n",
       "      <td>1</td>\n",
       "      <td>23</td>\n",
       "      <td>NaN</td>\n",
       "      <td>NaN</td>\n",
       "      <td>NaN</td>\n",
       "      <td>NaN</td>\n",
       "    </tr>\n",
       "    <tr>\n",
       "      <th>4</th>\n",
       "      <td>Q14534</td>\n",
       "      <td>NaN</td>\n",
       "      <td>SQLE</td>\n",
       "      <td>61</td>\n",
       "      <td>71</td>\n",
       "      <td>SQFALFSDILS</td>\n",
       "      <td>Chua, N.K., V. Howe, N. Jatana, L. Thukral, an...</td>\n",
       "      <td>No</td>\n",
       "      <td>Yes</td>\n",
       "    </tr>\n",
       "  </tbody>\n",
       "</table>\n",
       "</div>"
      ],
      "text/plain": [
       "0   Entry Organism Gene_name AH_location_start AH_location_end          Seq  \\\n",
       "0  Q9UH99    Human      SUN2               155             190          NaN   \n",
       "1  Q8N6T3      NaN   ARFGAP1               199             223          NaN   \n",
       "2  Q15643      NaN  GMAP-210                 1              38          NaN   \n",
       "3  P20606      NaN     Sar1p                 1              23          NaN   \n",
       "4  Q14534      NaN      SQLE                61              71  SQFALFSDILS   \n",
       "\n",
       "0                                             Source Helix in AF?  \\\n",
       "0                                                NaN          NaN   \n",
       "1                                                NaN          NaN   \n",
       "2                                                NaN           No   \n",
       "3                                                NaN          NaN   \n",
       "4  Chua, N.K., V. Howe, N. Jatana, L. Thukral, an...           No   \n",
       "\n",
       "0 Helix in s4pred  \n",
       "0             NaN  \n",
       "1             NaN  \n",
       "2             NaN  \n",
       "3             NaN  \n",
       "4             Yes  "
      ]
     },
     "execution_count": 17,
     "metadata": {},
     "output_type": "execute_result"
    }
   ],
   "source": [
    "df.head()"
   ]
  },
  {
   "cell_type": "code",
   "execution_count": 19,
   "id": "25b4c080-204e-44ab-8635-b876475f7c45",
   "metadata": {},
   "outputs": [
    {
     "name": "stdout",
     "output_type": "stream",
     "text": [
      "Q8N6T3 SUN2\n",
      "Q8N6T3 : s4pred done\n",
      "2022-08-15 19:47:31,602 | INFO : Job \"5316541a-0d4a-48c4-a99d-99910f74f405\" is starting...\n",
      "2022-08-15 19:47:52,759 | INFO : Cloud: Server capacity is being allocated. Please wait...\n",
      "2022-08-15 19:48:03,042 | INFO : Cloud: Server capacity is being allocated. Please wait...\n",
      "2022-08-15 19:48:13,323 | INFO : Cloud: Server capacity is being allocated. Please wait...\n",
      "2022-08-15 19:48:23,569 | INFO : Cloud: Server capacity is being allocated. Please wait...\n",
      "2022-08-15 19:48:33,807 | INFO : Cloud: Server capacity is being allocated. Please wait...\n",
      "deepTMHMM failed\n"
     ]
    }
   ],
   "source": [
    "for i, entry in enumerate(entry_list):\n",
    "    gene_name = df.iloc[i, 2]\n",
    "    print(entry, gene_name)\n",
    "    \n",
    "    # run s4pred from command line\n",
    "    command = \\\n",
    "    'python %s --outfmt fas ./TrainingData/Original_fasta/%s.fas > ./TrainingData/s4pred_output/%s_ss.fas' \\\n",
    "    % (model, entry, entry)\n",
    "    subprocess.run(command, shell=True)\n",
    "    print(entry, ': s4pred done')\n",
    "    \n",
    "    # obtain AA seq and SS prediction results as string\n",
    "    file = open(f'./TrainingData/s4pred_output/{entry}_ss.fas', 'r')\n",
    "    lines = file.readlines()\n",
    "    aa_seq = lines[-2].strip()\n",
    "    sse = lines[-1].strip()\n",
    "    \n",
    "    try:\n",
    "        # find TM by deepTMHMM\n",
    "        ## Run DeepTMHMM\n",
    "        deeptmhmm_res = deeptmhmm.cli(args=f'--fasta ./TrainingData/Original_fasta/{entry}.fas')\n",
    "        ## Save the results\n",
    "        deeptmhmm_res.save_files(f\"./TrainingData/DeepTMHMM_output/{entry}/\")\n",
    "\n",
    "        # read and store TM location prediction\n",
    "        deeptmhmm_results = open('./TrainingData/DeepTMHMM_output/Q9UH99/deeptmhmm_results.md')\n",
    "        lines = deeptmhmm_results.readlines()\n",
    "        tm = lines[8]\n",
    "    except:\n",
    "        print('deepTMHMM failed')\n",
    "        break\n",
    "    \n",
    "    # replace H by M in sse where TM is predicted\n",
    "    sse = list(sse) # switch to a list to make it mutable\n",
    "    print(len(sse), len(tm))\n",
    "    for i in range(len(sse)):\n",
    "        if tm[i] == 'M':\n",
    "            sse[i] = 'M'\n",
    "    sse = ''.join(sse) # recover it to a string\n",
    "    \n",
    "    # find locations of H\n",
    "    helix_dict = find_SS_location(aa_seq, sse, 'H')\n",
    "    # remove short H chains\n",
    "    for k in list(helix_dict):\n",
    "        if (helix_dict[k][1] - helix_dict[k][0] + 1) < helix_min_len:\n",
    "            del helix_dict[k]\n",
    "    \n",
    "    # find locations of TM\n",
    "    tm_dict = find_SS_location(aa_seq, tm, 'M')\n",
    "    \n",
    "    # make a _df, then append it to the home df_output\n",
    "    _df = pd.DataFrame()\n",
    "    ## For non-TM helix\n",
    "    _df['Helix_seq'] = helix_dict.keys()\n",
    "    _df['Helix_loc'] = helix_dict.values()\n",
    "    _df['TM?'] = 0\n",
    "    \n",
    "    ## For non-TM helix\n",
    "    _df['Helix_seq'] = tm_dict.keys()\n",
    "    _df['Helix_loc'] = tm_dict.values()\n",
    "    _df['TM?'] = 1\n",
    "    \n",
    "    ## Entry and gene name\n",
    "    _df['Entry'] = entry\n",
    "    _df['Gene_name'] = gene_name\n",
    "    df_output = df_output.append(_df)\n",
    "    \n",
    "    sleep(1)"
   ]
  },
  {
   "cell_type": "code",
   "execution_count": 18,
   "id": "ae973a0f-ad47-4b21-a0bd-a0e24eaabc44",
   "metadata": {},
   "outputs": [],
   "source": [
    "# iterator = SeqIO.read(file, 'fasta')\n",
    "# records = SeqIO.to_dict(iterator)\n",
    "# print(iterator.seq)\n",
    "# # print(list)\n",
    "# #     print(seq_rec.seq)\n",
    "# file.close()\n",
    "# print(sse)"
   ]
  },
  {
   "cell_type": "markdown",
   "id": "fb17a6b6-ce28-41b2-a045-9cc1a770b152",
   "metadata": {},
   "source": [
    "# 2. Helix sequence extracted from AlphaFold predicted struture"
   ]
  },
  {
   "cell_type": "markdown",
   "id": "fd747409-cc43-42cd-9230-10190f6c2337",
   "metadata": {},
   "source": [
    "## DSSP - primarily used"
   ]
  },
  {
   "cell_type": "code",
   "execution_count": null,
   "id": "b784c9f0-b78b-493c-96d7-7494d918021b",
   "metadata": {},
   "outputs": [],
   "source": [
    "file_path = '../../../AF-Q9WU40-F1-model_v3.pdb'"
   ]
  },
  {
   "cell_type": "code",
   "execution_count": 31,
   "id": "3ed79c25-8476-4e2c-90d0-98883de92458",
   "metadata": {},
   "outputs": [],
   "source": [
    "p = PDBParser()"
   ]
  },
  {
   "cell_type": "code",
   "execution_count": 70,
   "id": "667f36fb-5c9b-419f-8f06-7384cb846479",
   "metadata": {},
   "outputs": [],
   "source": [
    "def get_aaSeq_and_ss(pdb_filepath):\n",
    "\n",
    "    # empty string for output    \n",
    "    res_seq = ''\n",
    "    ss_seq = ''\n",
    "    \n",
    "    # get dssp from the PDB file\n",
    "    strcuture = p.get_structure('name', pdb_filepath)\n",
    "    model = strcuture[0]\n",
    "    dssp = DSSP(model, pdb_filepath)\n",
    "    \n",
    "    # parse dssp for residue symbol and ss info\n",
    "    for i in range(len(dssp.keys())): # len of the protein\n",
    "        # residue key\n",
    "        a_key = list(dssp.keys())[i]\n",
    "\n",
    "        # residue symbol and SS\n",
    "        res = list(dssp[a_key])[1]\n",
    "        ss = list(dssp[a_key])[2]\n",
    "        res_seq += res\n",
    "        ss_seq += ss\n",
    "\n",
    "    return res_seq, ss_seq"
   ]
  },
  {
   "cell_type": "code",
   "execution_count": 71,
   "id": "47ece1d2-4d1c-4730-ba3a-9d5515110a98",
   "metadata": {},
   "outputs": [],
   "source": [
    "res_seq, ss_seq = get_aaSeq_and_ss(file_path)"
   ]
  },
  {
   "cell_type": "code",
   "execution_count": 85,
   "id": "7023fb3b-5eea-4796-9465-a2bf66dee300",
   "metadata": {},
   "outputs": [
    {
     "data": {
      "text/plain": [
       "{'DEELFSQLRR': '15-24',\n",
       " 'RPVYLKKLKKLREEEQQQQQQQQQQQHRA': '37-65',\n",
       " 'EEELLQQFKRE': '461-471',\n",
       " 'SFSAHYLSMFLLTAACLFFLILGLTYLGMR': '478-507',\n",
       " 'ESEKNLLMSTLYKLHDRLAQIAGDHEC': '531-557',\n",
       " 'VQEAAAYLKNL': '567-577',\n",
       " 'EDVFNTSLLWIFKN': '582-595',\n",
       " 'FWCRFRRAFITVTHRLLLLCLGVVLVCVALRYMRYRWTKEEEETRQMYDMVVKIIDVLRSHNEACQE': '630-696',\n",
       " 'LPHVRDSL': '706-713',\n",
       " 'KKVWDRAVDFLAAN': '723-736',\n",
       " 'WHLAIQEAILEK': '812-823',\n",
       " 'PEYAGKAFKAL': '851-861',\n",
       " 'LDRYHHR': '878-884',\n",
       " 'SHLR': '906-909'}"
      ]
     },
     "execution_count": 85,
     "metadata": {},
     "output_type": "execute_result"
    }
   ],
   "source": [
    "find_SS_location(res_seq, ss_seq, ss_symbol='H')"
   ]
  },
  {
   "cell_type": "markdown",
   "id": "8e42cb5e-ed9e-4bcb-9d96-0cf3ecdeca17",
   "metadata": {},
   "source": [
    "## Using biotite - but not used"
   ]
  },
  {
   "cell_type": "code",
   "execution_count": 8,
   "id": "42e23dc1-469e-45f7-9150-4d5564221e04",
   "metadata": {},
   "outputs": [],
   "source": [
    "# from tempfile import gettempdir, NamedTemporaryFile\n",
    "# import biotite.structure as struc\n",
    "# import biotite.structure.io as strucio\n",
    "# import biotite.structure.io.pdb as pdb\n",
    "# import biotite.database.rcsb as rcsb\n",
    "\n",
    "# file_path = rcsb.fetch(\"1l2y\", \"pdb\", gettempdir())\n",
    "# pdb_file = pdb.PDBFile.read(file_path)\n",
    "# tc5b = pdb_file.get_structure()\n",
    "# print(type(tc5b).__name__)\n",
    "# # print(tc5b.stack_depth())\n",
    "# print(tc5b.array_length())\n",
    "# print(tc5b.shape)\n",
    "\n",
    "# array = strucio.load_structure(file_path)\n",
    "# sse = struc.annotate_sse(array, chain_id='A')\n",
    "\n",
    "# sse = ''.join(sse)"
   ]
  },
  {
   "cell_type": "code",
   "execution_count": null,
   "id": "1d1d6ec0-d34a-455c-af81-929f78b2baf3",
   "metadata": {},
   "outputs": [],
   "source": [
    "dssp = DSSP(model, '/local-pdb/1mot.pdb', dssp='mkdssp')"
   ]
  },
  {
   "cell_type": "markdown",
   "id": "0c309850-2b7a-4be5-a375-fed06c67fcd0",
   "metadata": {},
   "source": [
    "# DeepTMHMM"
   ]
  },
  {
   "cell_type": "code",
   "execution_count": null,
   "id": "fe672029-2962-4ca1-aba1-20a0b7502ebe",
   "metadata": {},
   "outputs": [
    {
     "name": "stdout",
     "output_type": "stream",
     "text": [
      "2022-08-14 13:54:35,662 | INFO : Loaded project DTU/DeepTMHMM:1.0.12\n",
      "2022-08-14 13:54:36,354 | INFO : Job \"330cb727-5aa1-49ff-9815-d420f961165c\" is starting...\n",
      "2022-08-14 13:54:39,369 | INFO : Started compute node\n",
      "2022-08-14 13:54:39,985 | INFO : Compute Node: Initializing\n",
      "2022-08-14 13:54:40,591 | INFO : Job \"330cb727-5aa1-49ff-9815-d420f961165c\" running...\n",
      "2022-08-14 13:54:41,494 | INFO : Compute Node: Pulling images...\n"
     ]
    }
   ],
   "source": [
    "import biolib\n",
    "\n",
    "deeptmhmm = biolib.load('DTU/DeepTMHMM')\n",
    "\n",
    "# Run DeepTMHMM\n",
    "deeptmhmm_res = deeptmhmm.cli(args='--fasta ./TrainingData/Original_fasta/Q15643.fas')\n",
    "\n",
    "# # Save the results\n",
    "# deeptmhmm_res.save_files(\"./biolib_results/\")\n",
    "\n",
    "# deeptmhmm_res.ipython_markdown()"
   ]
  },
  {
   "cell_type": "code",
   "execution_count": null,
   "id": "f1d91e7c-de3c-487b-b502-3e5c77037ff8",
   "metadata": {},
   "outputs": [],
   "source": []
  }
 ],
 "metadata": {
  "kernelspec": {
   "display_name": "Python 3",
   "language": "python",
   "name": "python3"
  },
  "language_info": {
   "codemirror_mode": {
    "name": "ipython",
    "version": 3
   },
   "file_extension": ".py",
   "mimetype": "text/x-python",
   "name": "python",
   "nbconvert_exporter": "python",
   "pygments_lexer": "ipython3",
   "version": "3.8.8"
  }
 },
 "nbformat": 4,
 "nbformat_minor": 5
}
