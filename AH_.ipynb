{
 "cells": [
  {
   "cell_type": "code",
   "execution_count": 1,
   "id": "b5855fc5-97b5-4996-aef9-091638e9cc57",
   "metadata": {},
   "outputs": [],
   "source": [
    "import os, sys, subprocess, re, requests, json, warnings\n",
    "import numpy as np\n",
    "import pandas as pd\n",
    "from urllib.request import urlopen\n",
    "from time import sleep\n",
    "\n",
    "from Bio import SeqIO\n",
    "from Bio.PDB.DSSP import DSSP\n",
    "from Bio.PDB.DSSP import PDBParser\n",
    "\n",
    "warnings.filterwarnings('ignore')"
   ]
  },
  {
   "cell_type": "code",
   "execution_count": 10,
   "id": "95fd41ed-5bd6-49b3-9c59-bf4bac5ab1e5",
   "metadata": {},
   "outputs": [],
   "source": [
    "import biotite.application.dssp as dssp"
   ]
  },
  {
   "cell_type": "code",
   "execution_count": 6,
   "id": "7ca23eee-5301-4214-a5d4-4ce97a38e5b9",
   "metadata": {
    "tags": []
   },
   "outputs": [],
   "source": [
    "def get_url(url, **kwargs):\n",
    "    '''\n",
    "    Obatin a response from a given url\n",
    "    '''\n",
    "    response = requests.get(url, **kwargs);\n",
    "\n",
    "    if not response.ok:\n",
    "        print(response.text)\n",
    "        response.raise_for_status()\n",
    "        sys.exit()\n",
    "\n",
    "    return response"
   ]
  },
  {
   "cell_type": "code",
   "execution_count": 7,
   "id": "dbb84792-22c6-4b3f-a7fb-1301c794b081",
   "metadata": {},
   "outputs": [],
   "source": [
    "# uniprot API URL\n",
    "WEBSITE_API = \"https://rest.uniprot.org/uniprotkb/\""
   ]
  },
  {
   "cell_type": "code",
   "execution_count": 20,
   "id": "918ef23a-cf63-419e-ad1c-4549220780f6",
   "metadata": {},
   "outputs": [],
   "source": [
    "def find_SS_location(res_seq, ss_seq, ss_symbol):\n",
    "    '''\n",
    "    Return residues that belong to helix\n",
    "    as a list of residues and their locations\n",
    "    Note that '*' is added in the end of both AA and prediction strings,\n",
    "    thus precition[0-1] and predition[last] return non-H anyway,\n",
    "    preventing the bug when predciton starts or ends with H\n",
    "    '''\n",
    "    helix_res_loc_dict = dict()\n",
    "    \n",
    "    res_seq += '*'\n",
    "    ss_seq += '*'\n",
    "\n",
    "    for i in range(len(ss_seq)):\n",
    "        if (ss_seq[i-1] != ss_symbol) & (ss_seq[i] == ss_symbol):\n",
    "            helix_start = i\n",
    "\n",
    "        elif (ss_seq[i-1] == ss_symbol) & (ss_seq[i] != ss_symbol):\n",
    "            helix_end = i\n",
    "            \n",
    "            # pack helix residues and locations into a dictionary\n",
    "            helix_res = res_seq[helix_start:helix_end]\n",
    "            helix_loc = str(helix_start+1) + '-' + str(helix_end) # residue number is non-pythonic and starts with 1, not 0\n",
    "            helix_res_loc_dict[helix_res] = helix_loc\n",
    "\n",
    "    return helix_res_loc_dict"
   ]
  },
  {
   "cell_type": "markdown",
   "id": "4c4b85cb-e74d-4c88-a3ef-6060dc8c3fa7",
   "metadata": {},
   "source": [
    "# 1. FASTA sequence"
   ]
  },
  {
   "cell_type": "code",
   "execution_count": 3,
   "id": "c685abc6-765b-4e1e-a31d-11b04f1e301b",
   "metadata": {},
   "outputs": [],
   "source": [
    "# protein list import\n",
    "df = pd.read_excel('./SourceData/AH_protein_list.xlsx')\n",
    "columns = df.iloc[0, 1:]\n",
    "df = df.iloc[1:, 1:]\n",
    "df.columns = columns"
   ]
  },
  {
   "cell_type": "code",
   "execution_count": 4,
   "id": "acffc039-bb74-4d70-ad1f-a25e876e9d50",
   "metadata": {},
   "outputs": [],
   "source": [
    "# # Protein entry list\n",
    "# entry_list = df.Entry.unique().tolist()\n",
    "\n",
    "# # AH location start postion list\n",
    "# AH_start_list = df.AH_location_start.unique"
   ]
  },
  {
   "cell_type": "code",
   "execution_count": 8,
   "id": "0a29bd3e-22eb-479d-bc9e-459a96f5152a",
   "metadata": {},
   "outputs": [
    {
     "name": "stdout",
     "output_type": "stream",
     "text": [
      "Q9UH99\n",
      "Q8N6T3\n",
      "Q15643\n",
      "P20606\n",
      "Q14534\n"
     ]
    }
   ],
   "source": [
    "# Obtain FASTA seq from Uniprot, make AH position data\n",
    "for entry in df.Entry:\n",
    "    print(entry)\n",
    "    try:\n",
    "        r = get_url(f'{WEBSITE_API}search?query=accession:{entry}&format=fasta&compressed=false')\n",
    "    except requests.exceptions.ConnectionError:\n",
    "        r.status_code = \"Connection refused\"\n",
    "        break\n",
    "        \n",
    "    # export fasta\n",
    "    fasta = r.text\n",
    "    with open('./TrainingData/Original_fasta/%s.fas' % entry, 'w') as f:\n",
    "        f.write(fasta)\n",
    "        f.close()\n",
    "        \n",
    "    sleep(1)"
   ]
  },
  {
   "cell_type": "markdown",
   "id": "89ace94b-e323-4a5a-9dd8-4de19c423f08",
   "metadata": {},
   "source": [
    "# s4pred for ss prediction"
   ]
  },
  {
   "cell_type": "code",
   "execution_count": 21,
   "id": "25b4c080-204e-44ab-8635-b876475f7c45",
   "metadata": {},
   "outputs": [
    {
     "name": "stdout",
     "output_type": "stream",
     "text": [
      "Q9UH99  done\n",
      "{'LRSAVSRAGSLLWMVA': '155-170', 'PGRLFRLLYWWAGTTWYRLTTAASLLDVFVL': '173-203', 'LKTFLWFLLPLLLLTCLTYGAWYF': '210-233', 'PY': '235-236', 'L': '238-238', 'PALVSWWA': '243-250', 'PHFQAEQRVMSRVHSLERRLEALAAEFSSNWQKEAMRLERLE': '268-309', 'HEDTLALLEGLVSRREAALKEDFRRETAARIQEELSALRAEHQQDSEDLFKKIVRASQESEARIQQLKSEWQSMTQESFQESSVKELRRLEDQLAGLQQELAALALKQSSVAEEV': '325-439', 'PQQIQAVRDDVESQ': '443-456', 'PAWISQFLA': '458-466', 'LLQREEMQAQLRELESKILTHVAEMQ': '475-500', 'AREAAASLSLTLQK': '504-517', 'EEQVHHIVKQALQRYSE': '525-541', 'I': '544-544', 'LADYALE': '546-552', 'TKTALLSLF': '569-577'}\n"
     ]
    }
   ],
   "source": [
    "model = '../s4pred/run_model.py'\n",
    "\n",
    "for entry in df.Entry[:1]:\n",
    "    command = \\\n",
    "    'python %s --outfmt fas ./TrainingData/Original_fasta/%s.fas > ./TrainingData/s4pred_output/%s_ss.fas' \\\n",
    "    % (model, entry, entry)\n",
    "    \n",
    "    # run s4pred from command line\n",
    "    subprocess.run(command, shell=True)\n",
    "    print(entry, ' done')\n",
    "    \n",
    "    file = open(f'./TrainingData/s4pred_output/{entry}_ss.fas', 'r')\n",
    "    lines = file.readlines()\n",
    "    aa_seq = lines[-2].strip()\n",
    "    sse = lines[-1].strip()\n",
    "    \n",
    "    l = find_SS_location(aa_seq, sse, 'H')\n",
    "    \n",
    "    print(l)"
   ]
  },
  {
   "cell_type": "code",
   "execution_count": 18,
   "id": "ae973a0f-ad47-4b21-a0bd-a0e24eaabc44",
   "metadata": {},
   "outputs": [],
   "source": [
    "# iterator = SeqIO.read(file, 'fasta')\n",
    "# records = SeqIO.to_dict(iterator)\n",
    "# print(iterator.seq)\n",
    "# # print(list)\n",
    "# #     print(seq_rec.seq)\n",
    "# file.close()\n",
    "# print(sse)"
   ]
  },
  {
   "cell_type": "markdown",
   "id": "fb17a6b6-ce28-41b2-a045-9cc1a770b152",
   "metadata": {},
   "source": [
    "# 2. Helix sequence extracted from AlphaFold predicted struture"
   ]
  },
  {
   "cell_type": "markdown",
   "id": "fd747409-cc43-42cd-9230-10190f6c2337",
   "metadata": {},
   "source": [
    "## DSSP - primarily used"
   ]
  },
  {
   "cell_type": "code",
   "execution_count": null,
   "id": "b784c9f0-b78b-493c-96d7-7494d918021b",
   "metadata": {},
   "outputs": [],
   "source": [
    "file_path = '../../../AF-Q9WU40-F1-model_v3.pdb'"
   ]
  },
  {
   "cell_type": "code",
   "execution_count": 31,
   "id": "3ed79c25-8476-4e2c-90d0-98883de92458",
   "metadata": {},
   "outputs": [],
   "source": [
    "p = PDBParser()"
   ]
  },
  {
   "cell_type": "code",
   "execution_count": 70,
   "id": "667f36fb-5c9b-419f-8f06-7384cb846479",
   "metadata": {},
   "outputs": [],
   "source": [
    "def get_aaSeq_and_ss(pdb_filepath):\n",
    "\n",
    "    # empty string for output    \n",
    "    res_seq = ''\n",
    "    ss_seq = ''\n",
    "    \n",
    "    # get dssp from the PDB file\n",
    "    strcuture = p.get_structure('name', pdb_filepath)\n",
    "    model = strcuture[0]\n",
    "    dssp = DSSP(model, pdb_filepath)\n",
    "    \n",
    "    # parse dssp for residue symbol and ss info\n",
    "    for i in range(len(dssp.keys())): # len of the protein\n",
    "        # residue key\n",
    "        a_key = list(dssp.keys())[i]\n",
    "\n",
    "        # residue symbol and SS\n",
    "        res = list(dssp[a_key])[1]\n",
    "        ss = list(dssp[a_key])[2]\n",
    "        res_seq += res\n",
    "        ss_seq += ss\n",
    "\n",
    "    return res_seq, ss_seq"
   ]
  },
  {
   "cell_type": "code",
   "execution_count": 71,
   "id": "47ece1d2-4d1c-4730-ba3a-9d5515110a98",
   "metadata": {},
   "outputs": [],
   "source": [
    "res_seq, ss_seq = get_aaSeq_and_ss(file_path)"
   ]
  },
  {
   "cell_type": "code",
   "execution_count": 85,
   "id": "7023fb3b-5eea-4796-9465-a2bf66dee300",
   "metadata": {},
   "outputs": [
    {
     "data": {
      "text/plain": [
       "{'DEELFSQLRR': '15-24',\n",
       " 'RPVYLKKLKKLREEEQQQQQQQQQQQHRA': '37-65',\n",
       " 'EEELLQQFKRE': '461-471',\n",
       " 'SFSAHYLSMFLLTAACLFFLILGLTYLGMR': '478-507',\n",
       " 'ESEKNLLMSTLYKLHDRLAQIAGDHEC': '531-557',\n",
       " 'VQEAAAYLKNL': '567-577',\n",
       " 'EDVFNTSLLWIFKN': '582-595',\n",
       " 'FWCRFRRAFITVTHRLLLLCLGVVLVCVALRYMRYRWTKEEEETRQMYDMVVKIIDVLRSHNEACQE': '630-696',\n",
       " 'LPHVRDSL': '706-713',\n",
       " 'KKVWDRAVDFLAAN': '723-736',\n",
       " 'WHLAIQEAILEK': '812-823',\n",
       " 'PEYAGKAFKAL': '851-861',\n",
       " 'LDRYHHR': '878-884',\n",
       " 'SHLR': '906-909'}"
      ]
     },
     "execution_count": 85,
     "metadata": {},
     "output_type": "execute_result"
    }
   ],
   "source": [
    "find_SS_location(res_seq, ss_seq, ss_symbol='H')"
   ]
  },
  {
   "cell_type": "markdown",
   "id": "8e42cb5e-ed9e-4bcb-9d96-0cf3ecdeca17",
   "metadata": {},
   "source": [
    "## Using biotite - but not used"
   ]
  },
  {
   "cell_type": "code",
   "execution_count": 8,
   "id": "42e23dc1-469e-45f7-9150-4d5564221e04",
   "metadata": {},
   "outputs": [],
   "source": [
    "# from tempfile import gettempdir, NamedTemporaryFile\n",
    "# import biotite.structure as struc\n",
    "# import biotite.structure.io as strucio\n",
    "# import biotite.structure.io.pdb as pdb\n",
    "# import biotite.database.rcsb as rcsb\n",
    "\n",
    "# file_path = rcsb.fetch(\"1l2y\", \"pdb\", gettempdir())\n",
    "# pdb_file = pdb.PDBFile.read(file_path)\n",
    "# tc5b = pdb_file.get_structure()\n",
    "# print(type(tc5b).__name__)\n",
    "# # print(tc5b.stack_depth())\n",
    "# print(tc5b.array_length())\n",
    "# print(tc5b.shape)\n",
    "\n",
    "# array = strucio.load_structure(file_path)\n",
    "# sse = struc.annotate_sse(array, chain_id='A')\n",
    "\n",
    "# sse = ''.join(sse)"
   ]
  },
  {
   "cell_type": "code",
   "execution_count": null,
   "id": "1d1d6ec0-d34a-455c-af81-929f78b2baf3",
   "metadata": {},
   "outputs": [],
   "source": [
    "dssp = DSSP(model, '/local-pdb/1mot.pdb', dssp='mkdssp')"
   ]
  },
  {
   "cell_type": "markdown",
   "id": "0c309850-2b7a-4be5-a375-fed06c67fcd0",
   "metadata": {},
   "source": [
    "# DeepTMHMM"
   ]
  },
  {
   "cell_type": "code",
   "execution_count": 1,
   "id": "627e5185-8e3f-4723-b1c7-a78afb7bdbd4",
   "metadata": {},
   "outputs": [],
   "source": [
    "import biolib"
   ]
  },
  {
   "cell_type": "code",
   "execution_count": 3,
   "id": "466b03b4-803a-486a-a62d-8f18eb74ecae",
   "metadata": {},
   "outputs": [
    {
     "name": "stdout",
     "output_type": "stream",
     "text": [
      "2022-08-06 11:38:23,160 | INFO : Loaded project DTU/DeepTMHMM:1.0.12\n",
      "2022-08-06 11:38:23,973 | INFO : Job \"8bfee793-340f-4b6f-b252-65373fce959f\" is starting...\n",
      "2022-08-06 11:38:46,409 | INFO : Cloud: Server capacity is being allocated. Please wait...\n",
      "2022-08-06 11:38:56,626 | INFO : Cloud: Server capacity is being allocated. Please wait...\n",
      "2022-08-06 11:39:06,982 | INFO : Cloud: Server capacity is being allocated. Please wait...\n",
      "2022-08-06 11:39:17,199 | INFO : Cloud: Server capacity is being allocated. Please wait...\n",
      "2022-08-06 11:39:27,434 | INFO : Cloud: Server capacity is being allocated. Please wait...\n",
      "2022-08-06 11:39:37,667 | INFO : Cloud: Server capacity is being allocated. Please wait...\n",
      "2022-08-06 11:39:47,884 | INFO : Cloud: Server capacity is being allocated. Please wait...\n",
      "2022-08-06 11:39:58,106 | INFO : Cloud: Server capacity is being allocated. Please wait...\n",
      "2022-08-06 11:40:08,329 | INFO : Cloud: Server capacity is being allocated. Please wait...\n",
      "2022-08-06 11:40:18,545 | INFO : Cloud: Server capacity is being allocated. Please wait...\n",
      "2022-08-06 11:40:28,778 | INFO : Cloud: Server capacity is being allocated. Please wait...\n",
      "2022-08-06 11:40:39,067 | INFO : Cloud: Server capacity is being allocated. Please wait...\n",
      "2022-08-06 11:40:49,996 | INFO : Cloud: Initializing\n",
      "2022-08-06 11:40:51,873 | INFO : Cloud: Pulling images...\n",
      "2022-08-06 11:40:51,875 | INFO : Cloud: Computing...\n",
      "Running DeepTMHMM on 1 sequence...\n",
      "Step 1/4 | Loading transformer model...\n",
      "\n",
      "Step 2/4 | Generating embeddings for sequences...\n",
      "Generating embeddings: 100% 1/1 [00:01<00:00,  1.21s/seq]\n",
      "\n",
      "Step 3/4 | Predicting topologies for sequences in batches of 25...\n",
      "Topology prediction: 100% 1/1 [00:03<00:00,  3.87s/seq]\n",
      "\n",
      "Step 4/4 | Generating output...\n",
      "2022-08-06 11:41:37,225 | INFO : Cloud: Computation finished\n",
      "2022-08-06 11:41:37,226 | INFO : Cloud: Result Ready\n"
     ]
    }
   ],
   "source": [
    "deeptmhmm = biolib.load('DTU/DeepTMHMM')\n",
    "\n",
    "# Run DeepTMHMM\n",
    "deeptmhmm_res = deeptmhmm.cli(args='--fasta ./TrainingData/Original_fasta/Q15643.fas')\n",
    "\n",
    "# # Save the results\n",
    "# deeptmhmm_res.save_files(\"./biolib_results/\")\n",
    "\n",
    "# deeptmhmm_res.ipython_markdown()"
   ]
  },
  {
   "cell_type": "code",
   "execution_count": 7,
   "id": "4a3e524d-96c2-4799-ac5a-0c9c8e7db7ae",
   "metadata": {},
   "outputs": [
    {
     "data": {
      "text/plain": [
       "bytearray(b'')"
      ]
     },
     "execution_count": 7,
     "metadata": {},
     "output_type": "execute_result"
    }
   ],
   "source": [
    "deeptmhmm_res."
   ]
  },
  {
   "cell_type": "code",
   "execution_count": null,
   "id": "c1fff01b-1c9f-4137-b4ee-974cf8e69b60",
   "metadata": {},
   "outputs": [],
   "source": []
  }
 ],
 "metadata": {
  "kernelspec": {
   "display_name": "Python 3",
   "language": "python",
   "name": "python3"
  },
  "language_info": {
   "codemirror_mode": {
    "name": "ipython",
    "version": 3
   },
   "file_extension": ".py",
   "mimetype": "text/x-python",
   "name": "python",
   "nbconvert_exporter": "python",
   "pygments_lexer": "ipython3",
   "version": "3.8.8"
  }
 },
 "nbformat": 4,
 "nbformat_minor": 5
}
